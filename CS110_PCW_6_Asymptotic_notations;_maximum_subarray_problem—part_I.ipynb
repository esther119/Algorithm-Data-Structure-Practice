{
  "nbformat": 4,
  "nbformat_minor": 0,
  "metadata": {
    "kernelspec": {
      "display_name": "Python 3",
      "language": "python",
      "name": "python3"
    },
    "language_info": {
      "codemirror_mode": {
        "name": "ipython",
        "version": 3
      },
      "file_extension": ".py",
      "mimetype": "text/x-python",
      "name": "python",
      "nbconvert_exporter": "python",
      "pygments_lexer": "ipython3",
      "version": "3.6.5"
    },
    "colab": {
      "name": "CS110 PCW 6 - Asymptotic notations; maximum-subarray problem—part I.ipynb",
      "provenance": [],
      "include_colab_link": true
    }
  },
  "cells": [
    {
      "cell_type": "markdown",
      "metadata": {
        "id": "view-in-github",
        "colab_type": "text"
      },
      "source": [
        "<a href=\"https://colab.research.google.com/github/esther119/Algorithm-and-Data-Structure/blob/master/CS110_PCW_6_Asymptotic_notations%3B_maximum_subarray_problem%E2%80%94part_I.ipynb\" target=\"_parent\"><img src=\"https://colab.research.google.com/assets/colab-badge.svg\" alt=\"Open In Colab\"/></a>"
      ]
    },
    {
      "cell_type": "markdown",
      "metadata": {
        "id": "ow1M6-Y1qvwN"
      },
      "source": [
        "Before you turn this problem in, make sure everything runs as expected. First, **restart the kernel** (in the menubar, select Kernel$\\rightarrow$Restart) and then **run all cells** (in the menubar, select Cell$\\rightarrow$Run All).\n",
        "\n",
        "Note that this Pre-class Work is estimated to take **37 minutes**.\n",
        "\n",
        "Make sure you fill in any place that says `YOUR CODE HERE` or \"YOUR ANSWER HERE\", as well as your name and collaborators below:"
      ]
    },
    {
      "cell_type": "code",
      "metadata": {
        "id": "-Uaq52O3qvwS"
      },
      "source": [
        "NAME = \"Esther\"\n",
        "COLLABORATORS = \"\""
      ],
      "execution_count": null,
      "outputs": []
    },
    {
      "cell_type": "markdown",
      "metadata": {
        "id": "xHJDDMyDqvwT"
      },
      "source": [
        "---"
      ]
    },
    {
      "cell_type": "markdown",
      "metadata": {
        "deletable": false,
        "editable": false,
        "nbgrader": {
          "checksum": "ce352f91ed0bf6c2afed3b99f1815893",
          "grade": false,
          "grade_id": "cell-a415b724e36aa852",
          "locked": true,
          "schema_version": 1,
          "solution": false
        },
        "id": "KcP0E2TZqvwT"
      },
      "source": [
        "# CS110 Pre-class Work - Asymptotic notations; maximum-subarray problem\n",
        "\n",
        "## Question 1 (Exercise 3.1-3 of Cormen, et al. ) [time estimate: 5 minutes]\n",
        "Explain why the statement, \"The running time of algorithm A is at least $O(n^2)$,\" is true but meaningless.\n"
      ]
    },
    {
      "cell_type": "markdown",
      "metadata": {
        "deletable": false,
        "nbgrader": {
          "checksum": "d6f28cb6ab1a8f547f022f1932f609f9",
          "grade": true,
          "grade_id": "cell-437d61c1420d4f99",
          "locked": false,
          "points": 0,
          "schema_version": 1,
          "solution": true
        },
        "id": "NiLKuLhmqvwU"
      },
      "source": [
        "O is to measure the worst case scenario, therefore, at least reaching the worst case scenario doesn't make sense. "
      ]
    },
    {
      "cell_type": "markdown",
      "metadata": {
        "deletable": false,
        "editable": false,
        "nbgrader": {
          "checksum": "4cb51623136309b18a2003316ca66bf4",
          "grade": false,
          "grade_id": "cell-7d82282e0c8a03e3",
          "locked": true,
          "schema_version": 1,
          "solution": false
        },
        "id": "toNg7EemqvwU"
      },
      "source": [
        "## Question 2 (Exercise 3.1-4 of Cormen, et al. ) [time estimate: 5 minutes]\n",
        "\n",
        "Is $2^{n+1}=O(2^n)$? Is $2^{2n}=O(2^n)$? Why?"
      ]
    },
    {
      "cell_type": "markdown",
      "metadata": {
        "deletable": false,
        "nbgrader": {
          "checksum": "9ea64ba2361ca4a6d09f468ddf82f39b",
          "grade": true,
          "grade_id": "cell-6a0c4ee19dadfddf",
          "locked": false,
          "points": 0,
          "schema_version": 1,
          "solution": true
        },
        "id": "G_0vtlOGqvwU"
      },
      "source": [
        "\n",
        "\n",
        "*   Yes. $2^{n+1}$ can be expressed as $2*2^n$. Since the coefficient \n",
        "*   2 is a constant, it is same as O($2^n$). \n",
        "No.$2^{2n}$ = $(2^n)* (2^n)$ which is two times larger than $2^n$. \n",
        "\n"
      ]
    },
    {
      "cell_type": "markdown",
      "metadata": {
        "deletable": false,
        "editable": false,
        "nbgrader": {
          "checksum": "b7ea4393551187246e7a7a7399d38250",
          "grade": false,
          "grade_id": "cell-e4fe88238c9e912a",
          "locked": true,
          "schema_version": 1,
          "solution": false
        },
        "id": "9CKqOBb7qvwU"
      },
      "source": [
        "## Question 3 [time estimate: 20 minutes]\n",
        "Write a function in Python that solves the maximum-subarray problem using a brute-force approach. Your Python function must:\n",
        "* Take as Input an array/list  of numbers\n",
        "* Produce the following Output: \n",
        "    * the start and end indices of the subarray containing the maximum sum.\n",
        "    * value of the maximum subarray (float)\n"
      ]
    },
    {
      "cell_type": "code",
      "metadata": {
        "deletable": false,
        "nbgrader": {
          "checksum": "c98e89c42d52953c5e460a0126592e2a",
          "grade": false,
          "grade_id": "cell-527e6532d6992fd0",
          "locked": false,
          "schema_version": 1,
          "solution": true
        },
        "colab": {
          "base_uri": "https://localhost:8080/"
        },
        "id": "wbUew_wNqvwV",
        "outputId": "7e5f5c9b-12f5-41dc-aa14-eca2ec641d14"
      },
      "source": [
        "def bruteforce_max_subarray(A):\n",
        "    \"\"\"\n",
        "    Implements brute-force maximum subarray finding.\n",
        "     \n",
        "    \"\"\"\n",
        "    marker_sum = -float('inf')\n",
        "    start_point = 0 \n",
        "    end_point = 0 \n",
        "    for i in range(len(A)):\n",
        "      for j in range(i+1, len(A)): \n",
        "        new_sum = sum(A[i:j])\n",
        "        if marker_sum < new_sum: #if the new array has a sum greater than our marker, we update it \n",
        "          marker_sum = new_sum\n",
        "          start_point = i \n",
        "          end_point = j-1\n",
        "\n",
        "    return start_point, end_point, marker_sum\n",
        "        \n",
        "\n",
        "A = [-2, -5, 6, -2, -3, 1, 5, -6]\n",
        "bruteforce_max_subarray(A)\n"
      ],
      "execution_count": null,
      "outputs": [
        {
          "output_type": "execute_result",
          "data": {
            "text/plain": [
              "(2, 6, 7)"
            ]
          },
          "metadata": {
            "tags": []
          },
          "execution_count": 33
        }
      ]
    },
    {
      "cell_type": "code",
      "metadata": {
        "deletable": false,
        "editable": false,
        "nbgrader": {
          "checksum": "57ec4672631bc8d61833077d1977b3e3",
          "grade": true,
          "grade_id": "cell-a28a56466c9537ff",
          "locked": true,
          "points": 1,
          "schema_version": 1,
          "solution": false
        },
        "id": "kYgU9EJUqvwV"
      },
      "source": [
        "assert(bruteforce_max_subarray([-2,1,-1,2,-5]) == (1, 3, 2))\n",
        "assert(bruteforce_max_subarray([-2, -5, 6, -2, -3, 1, 5, -6]) == (2, 6, 7))"
      ],
      "execution_count": null,
      "outputs": []
    },
    {
      "cell_type": "markdown",
      "metadata": {
        "id": "NadlJbcUzu21"
      },
      "source": [
        "## Divide and conquer approach practice\n",
        "max sum occurs in three scenarios  \n",
        "1. entirely at the left sublist\n",
        "2. entirely at the right sublist\n",
        "3. crossing the middle point \n"
      ]
    },
    {
      "cell_type": "code",
      "metadata": {
        "colab": {
          "base_uri": "https://localhost:8080/"
        },
        "id": "1eCP7NPBzeLu",
        "outputId": "12063247-b490-4467-a354-bb016e761ad5"
      },
      "source": [
        "def max_crossing_subarray(A, low, mid, high):\n",
        "  \n",
        "  left_sum = -float('inf') #start from the middle go toward the left. Find the max at the left hand side\n",
        "  sum = 0 \n",
        "  for i in range(mid,low-1,-1):\n",
        "    sum = sum +A[i]\n",
        "    if sum > left_sum: \n",
        "      left_sum = sum\n",
        "      left_index = i \n",
        "  right_sum = -float('inf') #start from the middle go toward the right. Find the max at the right eft hand side\n",
        "  sum = 0 \n",
        "  for j in range(mid+1,high+1):\n",
        "    sum = sum +A[j]\n",
        "    if sum > right_sum: \n",
        "      right_sum = sum\n",
        "      right_index = j\n",
        "\n",
        "  return left_index, right_index, left_sum + right_sum\n",
        "\n",
        "A = [-2,1,-1,2,-5]\n",
        "max_crossing_subarray(A,0,2,4)\n",
        "B = [-2,1,3,4]\n",
        "max_crossing_subarray(B,0,1,3)"
      ],
      "execution_count": null,
      "outputs": [
        {
          "output_type": "execute_result",
          "data": {
            "text/plain": [
              "(1, 3, 8)"
            ]
          },
          "metadata": {
            "tags": []
          },
          "execution_count": 61
        }
      ]
    },
    {
      "cell_type": "code",
      "metadata": {
        "colab": {
          "base_uri": "https://localhost:8080/"
        },
        "id": "d066lsNz2DTE",
        "outputId": "f3bd330b-8355-43c6-cd2c-0eaf5b9e9d9a"
      },
      "source": [
        "def max_subarray(A, low, high):\n",
        "  if high == low: #base case\n",
        "    return low, high, A[low]\n",
        "  else: \n",
        "    mid = (low+high)//2\n",
        "    left_low,left_high, max_left = max_subarray(A, low, mid)\n",
        "    right_low, right_high,max_right = max_subarray(A, mid+1, high)\n",
        "    cross_low, cross_high ,max_crossing = max_crossing_subarray(A, low, mid, high) \n",
        "    print(max_left, max_right, max_crossing)\n",
        "    #compare the sum for the left, right hand side of the list and the crossing \n",
        "    if max_left >= max_right and max_left > max_crossing:\n",
        "      return left_low,left_high, max_left\n",
        "    elif max_right > max_left and max_right > max_crossing:\n",
        "      return right_low, right_high,max_right\n",
        "    else: \n",
        "      return cross_low, cross_high ,max_crossing\n",
        "\n",
        "\n",
        "A = [-2,1,-1,2,-5]\n",
        "max_subarray(A,0,4)\n",
        "\n",
        "#From the output, we see that we will check the left, right, and cross side, at every level. And pick the largest among the three of them."
      ],
      "execution_count": null,
      "outputs": [
        {
          "output_type": "stream",
          "text": [
            "-2 1 -1\n",
            "1 -1 0\n",
            "2 -5 -3\n",
            "1 2 2\n"
          ],
          "name": "stdout"
        },
        {
          "output_type": "execute_result",
          "data": {
            "text/plain": [
              "(1, 3, 2)"
            ]
          },
          "metadata": {
            "tags": []
          },
          "execution_count": 86
        }
      ]
    },
    {
      "cell_type": "code",
      "metadata": {
        "colab": {
          "base_uri": "https://localhost:8080/"
        },
        "id": "-xxqeaOO_cbx",
        "outputId": "a6d69d0a-af73-49d5-d39b-6d356ed601ce"
      },
      "source": [
        "C = [13, -3, -25, 20, -3, -16, -23, 18, 20, -7, 12, -5, -22, 15, -4, 7]\n",
        "max_subarray(C,0,len(C)-1)"
      ],
      "execution_count": null,
      "outputs": [
        {
          "output_type": "stream",
          "text": [
            "13 -3 10\n",
            "-25 20 -5\n",
            "13 20 5\n",
            "-3 -16 -19\n",
            "-23 18 -5\n",
            "-3 18 -21\n",
            "20 18 17\n",
            "20 -7 13\n",
            "12 -5 7\n",
            "20 12 25\n",
            "-22 15 -7\n",
            "-4 7 3\n",
            "15 7 18\n",
            "25 18 16\n",
            "20 25 43\n"
          ],
          "name": "stdout"
        },
        {
          "output_type": "execute_result",
          "data": {
            "text/plain": [
              "(7, 10, 43)"
            ]
          },
          "metadata": {
            "tags": []
          },
          "execution_count": 87
        }
      ]
    },
    {
      "cell_type": "markdown",
      "metadata": {
        "deletable": false,
        "editable": false,
        "nbgrader": {
          "checksum": "8625e044853f9c85838ca9f6ca4db9c4",
          "grade": false,
          "grade_id": "cell-ba342b15913cb4d3",
          "locked": true,
          "schema_version": 1,
          "solution": false
        },
        "id": "lrzqxg9MqvwV"
      },
      "source": [
        "## Question 4 [time estimate: 2 minutes]\n",
        "Test your Python maximum-subarray function using the following input list (from Figure 4.3 of Cormen et al.):  \n",
        "`A = [13, -3, -25, 20, -3, -16, -23, 18, 20, -7, 12, -5, -22, 15, -4, 7] `\n",
        "\n",
        "If your Python implementation is correct, your code must return: \n",
        "* 43 - which is the answer to the maximum subarray problem, and \n",
        "* <7, 10> -the start and the end indices of the max subarray. \n",
        "\n"
      ]
    },
    {
      "cell_type": "code",
      "metadata": {
        "deletable": false,
        "nbgrader": {
          "checksum": "9084301761509ba09820ee55035fd115",
          "grade": true,
          "grade_id": "cell-e4a632ce0edc1697",
          "locked": false,
          "points": 0,
          "schema_version": 1,
          "solution": true
        },
        "colab": {
          "base_uri": "https://localhost:8080/"
        },
        "id": "mUR09UbUqvwW",
        "outputId": "00061eb2-1b32-4793-da4f-d7d2b99c9e05"
      },
      "source": [
        "A = [13, -3, -25, 20, -3, -16, -23, 18, 20, -7, 12, -5, -22, 15, -4, 7]\n",
        "bruteforce_max_subarray(A)"
      ],
      "execution_count": null,
      "outputs": [
        {
          "output_type": "execute_result",
          "data": {
            "text/plain": [
              "(7, 10, 43)"
            ]
          },
          "metadata": {
            "tags": []
          },
          "execution_count": 28
        }
      ]
    },
    {
      "cell_type": "markdown",
      "metadata": {
        "deletable": false,
        "editable": false,
        "nbgrader": {
          "checksum": "ece95f66eb7d394ae22b60efa5431795",
          "grade": false,
          "grade_id": "cell-345f6f0bc7b4e001",
          "locked": true,
          "schema_version": 1,
          "solution": false
        },
        "id": "UQ1lksmRqvwW"
      },
      "source": [
        "## Question 5. Asymptotic notation [time estimate: 5 minutes]\n",
        "Complete the following table using the asymptotic notation that best describes the problem. For example, if both $O(n^3)$ and $O(n)$ are possible for an algorithm, the answer is $O(n)$ because the function $f(n) = O(n)$ provides a tighter and more accurate fit; if both $O(n)$ and $\\Theta(n)$ are possible, the correct answer is $\\Theta(n)$ because $\\Theta(n)$ provides both information about the upper and lower bound, thus it is more accurate than $O(n)$.\n",
        "\n",
        "You should copy the following table and paste and edit it in the cell below. \n",
        "\n",
        "Algorithm | Running time \n",
        "--- | --- \n",
        "Insertion sort | $O(n^2)$ , $\\Theta(n)$, $\\Omega(n^2)$\n",
        "Selection sort |  $O(n^2)$ , $\\Theta(n^2)$, $\\Omega(n^2)$\n",
        "Bubble sort |  $O(n^2)$ , $\\Theta(n)$, $\\Omega(n^2)$\n",
        "Finding maximum subarray(brute force) |  $O(n^2)$ , $\\Theta(n)$, $\\Omega(n^2)$\n",
        "\n",
        "\n",
        "*Bubble sort: if we only count swap instead of comparisons "
      ]
    },
    {
      "cell_type": "markdown",
      "metadata": {
        "deletable": false,
        "editable": false,
        "nbgrader": {
          "checksum": "033981aff08a9064f5553137db1a4841",
          "grade": false,
          "grade_id": "cell-9e53f43b4530cd79",
          "locked": true,
          "schema_version": 1,
          "solution": false
        },
        "id": "3T04zrjPqvwW"
      },
      "source": [
        "## [Optional] Question 6 [time estimate: 15 minutes] \n",
        "How can you change this code to make it find the minimum-subarray?"
      ]
    },
    {
      "cell_type": "code",
      "metadata": {
        "deletable": false,
        "nbgrader": {
          "checksum": "462bcec4b06cc6fbda0e34c29e30b1fb",
          "grade": false,
          "grade_id": "cell-f4553f71858d1bc4",
          "locked": false,
          "schema_version": 1,
          "solution": true
        },
        "colab": {
          "base_uri": "https://localhost:8080/"
        },
        "id": "eySjAxLkqvwW",
        "outputId": "b8be2859-d60b-4508-c499-beb0cba8178b"
      },
      "source": [
        "def bruteforce_min_subarray(A):\n",
        "    \"\"\"\n",
        "    Implements brute-force minimum subarray finding.\n",
        "    \n",
        "    \"\"\"\n",
        "    marker_sum = +float('inf')\n",
        "    start_point = 0 \n",
        "    end_point = 0 \n",
        "    for i in range(len(A)):\n",
        "      for j in range(i+1, len(A)): \n",
        "        new_sum = sum(A[i:j])\n",
        "        if marker_sum > new_sum: #if the new array has a sum greater than our marker, we update it \n",
        "          marker_sum = new_sum\n",
        "          start_point = i \n",
        "          end_point = j-1\n",
        "\n",
        "    return start_point, end_point, marker_sum\n",
        "        \n",
        "\n",
        "A = [-2, -5, 6, -2, -3, 1, 5, -6]\n",
        "bruteforce_min_subarray(A)"
      ],
      "execution_count": null,
      "outputs": [
        {
          "output_type": "execute_result",
          "data": {
            "text/plain": [
              "(0, 1, -7)"
            ]
          },
          "metadata": {
            "tags": []
          },
          "execution_count": 34
        }
      ]
    },
    {
      "cell_type": "code",
      "metadata": {
        "deletable": false,
        "editable": false,
        "nbgrader": {
          "checksum": "70322c36cf22b5f720e6c338f08925c2",
          "grade": true,
          "grade_id": "cell-4263c7494a5f09d3",
          "locked": true,
          "points": 0,
          "schema_version": 1,
          "solution": false
        },
        "id": "AQWwLfkFqvwX"
      },
      "source": [
        "assert(bruteforce_min_subarray([1]*10)[0] == bruteforce_min_subarray([1]*10)[1])\n",
        "assert(bruteforce_min_subarray([1]*10)[2] == 1)"
      ],
      "execution_count": null,
      "outputs": []
    },
    {
      "cell_type": "code",
      "metadata": {
        "id": "xQ_KrNWey41n"
      },
      "source": [
        ""
      ],
      "execution_count": null,
      "outputs": []
    }
  ]
}