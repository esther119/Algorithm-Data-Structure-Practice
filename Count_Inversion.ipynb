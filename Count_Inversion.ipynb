{
 "cells": [
  {
   "cell_type": "code",
   "execution_count": 51,
   "metadata": {
    "collapsed": false
   },
   "outputs": [],
   "source": [
    "def CountMerge(A,B): #A,B is two sorted list, Merge function will merge them \n",
    "    count = 0 \n",
    "    i = 0\n",
    "    j = 0\n",
    "    m = 0 \n",
    "    n = len(A)+len(B)\n",
    "    C = [0]* n #create a empty list \n",
    "    for k in range(n): \n",
    "        if A[i] <= B[j]:\n",
    "            C[k] = A[i]\n",
    "            i += 1            \n",
    "            if i >= len(A): #finish all elements in list A\n",
    "                C[-n+i+j:] = B[-n+i+j:]\n",
    "                break\n",
    "                \n",
    "        else: \n",
    "            C[k] = B[j]\n",
    "            m = i\n",
    "            while m < len(A):\n",
    "                if B[j] < A[m]: \n",
    "                    count += 1\n",
    "                    m+=1\n",
    "                else:\n",
    "                    break\n",
    "            j += 1\n",
    "                \n",
    "            if j >= len(B): #finish all elements in list A\n",
    "                C[-n+i+j:] = A[-n+i+j:]\n",
    "                break\n",
    "                \n",
    "    return count,C\n",
    "\n",
    "            "
   ]
  },
  {
   "cell_type": "code",
   "execution_count": 52,
   "metadata": {
    "collapsed": false
   },
   "outputs": [
    {
     "data": {
      "text/plain": [
       "(4, [2, 3, 4, 5])"
      ]
     },
     "execution_count": 52,
     "metadata": {},
     "output_type": "execute_result"
    }
   ],
   "source": [
    "#Test case \n",
    "A = [4,5]\n",
    "B = [2,3]\n",
    "CountMerge(A, B)"
   ]
  },
  {
   "cell_type": "code",
   "execution_count": 58,
   "metadata": {
    "collapsed": true
   },
   "outputs": [],
   "source": [
    "def Count_MergeSort(list):\n",
    "    n= len(list)\n",
    "    X = 0\n",
    "    Y = 0\n",
    "    Z = 0 \n",
    "    C = 0 \n",
    "    count = 0 \n",
    "    if n <= 1: #if only one element in the list \n",
    "        return 0,list \n",
    "\n",
    "    else:  #if more than one element in the list \n",
    "        mid = n//2 \n",
    "        left = list[:mid]\n",
    "        right = list[mid:]\n",
    "        X, A = Count_MergeSort(left)  #X is counted left #A is the sorted left list\n",
    "        Y, B = Count_MergeSort(right) #Y is counted left #B is the sorted left list\n",
    "        Z, C = CountMerge(A, B)  #Count and merge two lists\n",
    "    return X+Y+Z, C\n",
    "\n",
    "#Test case \n",
    "list1 = [6,5]\n",
    "list2 = [5,4,2,3]\n",
    "list3 = [6,5,4,2,3,1]"
   ]
  },
  {
   "cell_type": "code",
   "execution_count": 59,
   "metadata": {
    "collapsed": false
   },
   "outputs": [
    {
     "name": "stdout",
     "output_type": "stream",
     "text": [
      "(1, [5, 6])\n",
      "(5, [2, 3, 4, 5])\n",
      "(14, [1, 2, 3, 4, 5, 6])\n"
     ]
    }
   ],
   "source": [
    "print(Count_MergeSort(list1))\n",
    "print(Count_MergeSort(list2))\n",
    "print(Count_MergeSort(list3))"
   ]
  },
  {
   "cell_type": "markdown",
   "metadata": {},
   "source": [
    "## Takeaway"
   ]
  },
  {
   "cell_type": "markdown",
   "metadata": {},
   "source": [
    "1. Initially, I expect replying on CountMerge function itself is enough because it merge and count, but I need to remember that recursion look at all layer as a whole. It means that a list can be left or right at upper layer, which will be counted in counted in X and Y. \n",
    "2. A, B list is important too. Without it, left and right list won't be sorted. "
   ]
  },
  {
   "cell_type": "code",
   "execution_count": null,
   "metadata": {
    "collapsed": true
   },
   "outputs": [],
   "source": []
  }
 ],
 "metadata": {
  "kernelspec": {
   "display_name": "Python 3",
   "language": "python",
   "name": "python3"
  },
  "language_info": {
   "codemirror_mode": {
    "name": "ipython",
    "version": 3
   },
   "file_extension": ".py",
   "mimetype": "text/x-python",
   "name": "python",
   "nbconvert_exporter": "python",
   "pygments_lexer": "ipython3",
   "version": "3.6.3"
  }
 },
 "nbformat": 4,
 "nbformat_minor": 0
}
