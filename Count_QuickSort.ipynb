{
 "cells": [
  {
   "cell_type": "code",
   "execution_count": 317,
   "metadata": {
    "collapsed": false
   },
   "outputs": [],
   "source": [
    "def Sort(list): #p = pivot position\n",
    "    n = len(list) - 1 \n",
    "    p = 0\n",
    "    pivot = list[p]  #the first element\n",
    "    i = 1 \n",
    "    j = 1\n",
    "    while j <= n:  \n",
    "        if list[j] <= pivot:  \n",
    "            list = swap(list,i,j)\n",
    "            i += 1\n",
    "            j += 1\n",
    "        else: \n",
    "            j += 1\n",
    "    \n",
    "    list = swap(list, p, i-1)   #final swap with pivot \n",
    "    p = i-1\n",
    "    count = n \n",
    "                    \n",
    "    return list, p, count  #pivot's new position position        "
   ]
  },
  {
   "cell_type": "code",
   "execution_count": 318,
   "metadata": {
    "collapsed": false
   },
   "outputs": [],
   "source": [
    "def swap(list,i,j):\n",
    "    a = list[i]\n",
    "    b = list[j]\n",
    "    list[j] = a\n",
    "    list[i] = b\n",
    "    return list"
   ]
  },
  {
   "cell_type": "code",
   "execution_count": 327,
   "metadata": {
    "collapsed": true
   },
   "outputs": [],
   "source": [
    "#First, Last, Medium as pivot in the list \n",
    "def def_pivot(list, order):\n",
    "    if len(list) <= 1:\n",
    "        return list \n",
    "    else: \n",
    "        if order == 'first':\n",
    "            list = list \n",
    "        elif order == 'last': \n",
    "            list = swap(list,0, -1)\n",
    "        elif order == 'median':\n",
    "            median = find_median(list)\n",
    "            \n",
    "            \n",
    "            list = swap(list, 0, median)\n",
    "        else:\n",
    "            list = None \n",
    "    \n",
    "    return list      "
   ]
  },
  {
   "cell_type": "code",
   "execution_count": 328,
   "metadata": {
    "collapsed": true
   },
   "outputs": [],
   "source": [
    "def find_median(list): #find the median \n",
    "    mid = len(list)//2  #find the middle point \n",
    "    if len(list) % 2 != 0:\n",
    "        mid = mid\n",
    "    else: \n",
    "        mid -= 1\n",
    "    \n",
    "    f = list[0] #first \n",
    "    l = list[-1] #last \n",
    "    m = list[mid] #middle \n",
    "    \n",
    "    if f >= l:\n",
    "        if f >= m:\n",
    "            if l >= m: \n",
    "                result = l \n",
    "                return -1\n",
    "            else:\n",
    "                result = m \n",
    "                return mid\n",
    "        else: \n",
    "            result = f  \n",
    "            return 0\n",
    "            \n",
    "    else: \n",
    "        if f >= m:\n",
    "            result = f \n",
    "            return 0\n",
    "        else: \n",
    "            if l >= m:\n",
    "                result =  m\n",
    "                return mid\n",
    "            else:\n",
    "                result = l \n",
    "                return -1\n",
    "\n",
    "    \n",
    "    "
   ]
  },
  {
   "cell_type": "code",
   "execution_count": 329,
   "metadata": {
    "collapsed": false
   },
   "outputs": [],
   "source": [
    "def Quick_Sort(list, order):\n",
    "    list = def_pivot(list, order)\n",
    "    total_count = 0 \n",
    "    if len(list) <= 1:\n",
    "        return 0, list\n",
    "    else: \n",
    "        Sorted, p, count = Sort(list)\n",
    "        pivot = Sorted[p] #the value of pivot \n",
    "        X, left = Quick_Sort(Sorted[:p], order) #include pivot in the left list \n",
    "        Y, right = Quick_Sort(Sorted[p+1:], order)\n",
    "        result = left + [pivot] + right\n",
    "        total_count = X+Y+ (len(list)-1) #Count left, right, the initial whole list \n",
    "    \n",
    "\n",
    "    return total_count, result  "
   ]
  },
  {
   "cell_type": "code",
   "execution_count": 330,
   "metadata": {
    "collapsed": false
   },
   "outputs": [
    {
     "data": {
      "text/plain": [
       "[1, 0, 0, 2]"
      ]
     },
     "execution_count": 330,
     "metadata": {},
     "output_type": "execute_result"
    }
   ],
   "source": [
    "list1 = [2,3,1,0,4,5,0]\n",
    "list2 = [1,2,3,4,5]\n",
    "list3 = [5,4,3,2,1]\n",
    "list4 = [0,1,0,2]\n",
    "list5 = [5,4,3,2,6]\n",
    "list6 = [2,1,5,5,5]\n",
    "list7 = [3,7,1,2]\n",
    "\n",
    "# Sort_2(list7)\n",
    "\n",
    "\n",
    "# print(Quick_Sort(list1))\n",
    "# print(Quick_Sort(list2))\n",
    "# print(Quick_Sort(list3))\n",
    "# print(Quick_Sort(list4))\n",
    "# print(Quick_Sort(list5))\n",
    "# print(Quick_Sort(list6))\n",
    "# print(Quick_Sort(list7, \"median\"))\n",
    "pivot(list4, \"median\")"
   ]
  },
  {
   "cell_type": "code",
   "execution_count": 331,
   "metadata": {
    "collapsed": false
   },
   "outputs": [],
   "source": [
    "f = open('quicksort_data.txt', 'r')\n",
    "with open('quicksort_data.txt', 'r') as f:\n",
    "    data = [int(line.strip()) for line in f] #convert the input txt to a list\n",
    "data_first = data.copy()\n",
    "data_last = data.copy()\n",
    "data_median = data.copy()\n",
    "\n"
   ]
  },
  {
   "cell_type": "code",
   "execution_count": 332,
   "metadata": {
    "collapsed": false
   },
   "outputs": [
    {
     "data": {
      "text/plain": [
       "162085"
      ]
     },
     "execution_count": 332,
     "metadata": {},
     "output_type": "execute_result"
    }
   ],
   "source": [
    "Quick_Sort(data_first,\"first\")[0]"
   ]
  },
  {
   "cell_type": "code",
   "execution_count": 333,
   "metadata": {
    "collapsed": false
   },
   "outputs": [
    {
     "data": {
      "text/plain": [
       "164123"
      ]
     },
     "execution_count": 333,
     "metadata": {},
     "output_type": "execute_result"
    }
   ],
   "source": [
    "Quick_Sort(data_last,\"last\")[0]"
   ]
  },
  {
   "cell_type": "code",
   "execution_count": 334,
   "metadata": {
    "collapsed": false
   },
   "outputs": [
    {
     "data": {
      "text/plain": [
       "138382"
      ]
     },
     "execution_count": 334,
     "metadata": {},
     "output_type": "execute_result"
    }
   ],
   "source": [
    "Quick_Sort(data_median,\"median\")[0]"
   ]
  },
  {
   "cell_type": "code",
   "execution_count": null,
   "metadata": {
    "collapsed": true
   },
   "outputs": [],
   "source": [
    "            mid = len(list)//2  #find the middle point \n",
    "            if len(list) % 2 != 0:\n",
    "                mid = mid\n",
    "            else: \n",
    "                mid -= 1\n",
    "                \n",
    "            #Find the median from first, last, and middle \n",
    "            f = list[0]\n",
    "            l = list[-1]\n",
    "            m = list[mid]"
   ]
  }
 ],
 "metadata": {
  "kernelspec": {
   "display_name": "Python 3",
   "language": "python",
   "name": "python3"
  },
  "language_info": {
   "codemirror_mode": {
    "name": "ipython",
    "version": 3
   },
   "file_extension": ".py",
   "mimetype": "text/x-python",
   "name": "python",
   "nbconvert_exporter": "python",
   "pygments_lexer": "ipython3",
   "version": "3.6.3"
  }
 },
 "nbformat": 4,
 "nbformat_minor": 0
}
