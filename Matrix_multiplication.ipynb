{
 "cells": [
  {
   "cell_type": "code",
   "execution_count": 3,
   "metadata": {
    "collapsed": true
   },
   "outputs": [],
   "source": [
    "import numpy as np"
   ]
  },
  {
   "cell_type": "code",
   "execution_count": 333,
   "metadata": {
    "collapsed": false
   },
   "outputs": [],
   "source": [
    "#Test Cases\n",
    "A1 = [[1,2],[2,3]]\n",
    "B1 = [[6,5],[9,9]]\n",
    "a1 = np.array(A1)\n",
    "b1 = np.array(B1)\n",
    "\n",
    "A2 = [[1,2,0,1],[2,3,7,8],[6,2,4,6], [7,1,7,4]]\n",
    "B2 = [[1,1,1,1],[2,2,2,2],[3,3,3,3],[4,4,31,4]]\n",
    "a2 = np.array(A2)\n",
    "b2 = np.array(B2)\n",
    "\n",
    "A3 = np.random.randint(5, size=(8,8))\n",
    "B3 = np.random.randint(5, size =(8,8))\n",
    "a3 = np.array(A3)\n",
    "b3 = np.array(B3)"
   ]
  },
  {
   "cell_type": "code",
   "execution_count": 334,
   "metadata": {
    "collapsed": false
   },
   "outputs": [],
   "source": [
    "def matrix_mul(A, B):\n",
    "    n = len(A)\n",
    "    if n <= 2:\n",
    "        C = [[0]*n for m in range(n) ] \n",
    "        for i in range(n):\n",
    "            for j in range(n):\n",
    "                sum = 0 \n",
    "                for k in range(n):\n",
    "                    sum += A[i][k] * B[k][j]\n",
    "                    if k == (n-1): #When k finishes loop through n \n",
    "                        C[i][j] = sum #put the sum of A*B matrix in C\n",
    "        return C\n",
    "    else: \n",
    "        mid = n//2  \n",
    "\n",
    "        A11 = A[0:mid,0:mid]\n",
    "        A12 = A[0:mid,mid:]\n",
    "        A21 = A[mid:,0:mid]\n",
    "        A22 = A[mid:,mid:]\n",
    "        B11 = B[0:mid,0:mid]\n",
    "        B12 = B[0:mid,mid:]\n",
    "        B21 = B[mid:,0:mid]\n",
    "        B22 = B[mid:,mid:]\n",
    "        \n",
    "        C11 = np.add(matrix_mul(A11,B11),matrix_mul(A12, B21))\n",
    "        C12 = np.add(matrix_mul(A11,B12), matrix_mul(A12, B22))\n",
    "        C21 = np.add(matrix_mul(A21,B11), matrix_mul(A22, B21))\n",
    "        C22 = np.add(matrix_mul(A21,B12), matrix_mul(A22, B22))\n",
    "        C = np.bmat([[C11, C12], [C21, C22]])\n",
    "#         C = [C11,C12,C21,C22]\n",
    "        return C\n",
    "        "
   ]
  },
  {
   "cell_type": "code",
   "execution_count": 335,
   "metadata": {
    "collapsed": false
   },
   "outputs": [
    {
     "name": "stdout",
     "output_type": "stream",
     "text": [
      "[[24 23]\n",
      " [39 37]]\n",
      "\n",
      "[[24, 23], [39, 37]]\n"
     ]
    }
   ],
   "source": [
    "print(a1.dot(b1))\n",
    "print()\n",
    "print(matrix_mul(a1,b1))"
   ]
  },
  {
   "cell_type": "code",
   "execution_count": 336,
   "metadata": {
    "collapsed": false
   },
   "outputs": [
    {
     "name": "stdout",
     "output_type": "stream",
     "text": [
      "\n",
      "[[  9   9  36   9]\n",
      " [ 61  61 277  61]\n",
      " [ 46  46 208  46]\n",
      " [ 46  46 154  46]]\n"
     ]
    }
   ],
   "source": [
    "matrix_mul(a2,b2)\n",
    "print()\n",
    "print(a2.dot(b2))"
   ]
  },
  {
   "cell_type": "code",
   "execution_count": 337,
   "metadata": {
    "collapsed": false
   },
   "outputs": [
    {
     "name": "stdout",
     "output_type": "stream",
     "text": [
      "[[45 37 43 28 54 57 51 45]\n",
      " [31 12 22 22 31 30 34 24]\n",
      " [13 26 18  8 18 23 14 16]\n",
      " [26 26 23 15 33 36 26 25]\n",
      " [46 41 41 38 60 62 45 46]\n",
      " [36 21 36 26 40 44 40 32]\n",
      " [49 37 48 39 43 49 41 47]\n",
      " [16 21 22 14 22 28 10 19]]\n",
      "\n",
      "[[45 37 43 28 54 57 51 45]\n",
      " [31 12 22 22 31 30 34 24]\n",
      " [13 26 18  8 18 23 14 16]\n",
      " [26 26 23 15 33 36 26 25]\n",
      " [46 41 41 38 60 62 45 46]\n",
      " [36 21 36 26 40 44 40 32]\n",
      " [49 37 48 39 43 49 41 47]\n",
      " [16 21 22 14 22 28 10 19]]\n"
     ]
    }
   ],
   "source": [
    "print(matrix_mul(a3,b3))\n",
    "print()\n",
    "print(a3.dot(b3))"
   ]
  },
  {
   "cell_type": "markdown",
   "metadata": {},
   "source": [
    "## Problem\n",
    "1. List of lists changes reflected across sublists unexpectedly: https://stackoverflow.com/questions/240178/list-of-lists-changes-reflected-across-sublists-unexpectedly"
   ]
  },
  {
   "cell_type": "code",
   "execution_count": null,
   "metadata": {
    "collapsed": true
   },
   "outputs": [],
   "source": []
  }
 ],
 "metadata": {
  "kernelspec": {
   "display_name": "Python 3",
   "language": "python",
   "name": "python3"
  },
  "language_info": {
   "codemirror_mode": {
    "name": "ipython",
    "version": 3
   },
   "file_extension": ".py",
   "mimetype": "text/x-python",
   "name": "python",
   "nbconvert_exporter": "python",
   "pygments_lexer": "ipython3",
   "version": "3.6.3"
  }
 },
 "nbformat": 4,
 "nbformat_minor": 0
}
