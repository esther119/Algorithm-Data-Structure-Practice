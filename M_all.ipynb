{
 "cells": [
  {
   "cell_type": "code",
   "execution_count": 3,
   "metadata": {
    "collapsed": true
   },
   "outputs": [],
   "source": [
    "import pandas as pd\n",
    "import numpy as np\n",
    "data = pd.read_csv('M_all.csv')"
   ]
  },
  {
   "cell_type": "code",
   "execution_count": 5,
   "metadata": {
    "collapsed": false
   },
   "outputs": [
    {
     "data": {
      "text/plain": [
       "Index(['Table Names', 'IND_P_Park', 'IND_P_Park 1', 'D_gender', 'D_year',\n",
       "       'D_country', 'D_city', 'D_major', 'G_CO_Per', 'G_NotRes_Per',\n",
       "       'S_Anywhere_i', 'S_Explore_i', 'S_Oneplace_i', 'S_Distracted_i',\n",
       "       'S_Anywhere_f', 'S_Explore_f', 'S_Oneplace_f', 'S_Distracted_f',\n",
       "       'M_Forum', 'M_Peer', 'M_Rotation', 'M_Profdev', 'M_Pedagogy',\n",
       "       'M_Living', 'M_Campusless', 'M_Schoolwork', 'IND_Online', 'IND_P_Res',\n",
       "       'IND_P_NotRes', 'IND_F_Other', 'T_IND_Res', 'T_IND_NotRes',\n",
       "       'IND_P_Cafe', 'IND_P_Cowork', 'IND_P_Lib', 'IND_P_POPO',\n",
       "       'IND_P_Dorm_Room', 'IND_P_Dorm_Pub', 'IND_P_Hotel', 'IND_P_Other',\n",
       "       'IND_F_Prox_Res', 'IND_F_Prox_Des', 'IND_F_Quiet', 'IND_F_Comfort',\n",
       "       'IND_F_Aes', 'IND_F_Private', 'IND_F_Eat', 'IND_F_Toilet',\n",
       "       'IND_F_Peer_Few', 'IND_F_Peer_Many', 'IND_Time', 'IND_Ideal_Other',\n",
       "       'CO_P_Res', 'CO_P_NotRes', 'CO_F_Other', 'CO_F_Work', 'CO_P_Cafe',\n",
       "       'CO_P_Cowork', 'CO_P_Lib', 'CO_P_POPO', 'CO_P_Dorm_Room',\n",
       "       'CO_P_Dorm_Pub', 'CO_P_Hotel', 'CO_P_Other', 'CO_F_Prox_Res',\n",
       "       'CO_F_Prox_Des', 'CO_F_Quiet', 'Co_F_Comfort', 'Co_F_Aes',\n",
       "       'Co_F_Private', 'Co_F_Eat', 'Co_F_Toilet', 'CO_F_Peer_Few',\n",
       "       'CO_F_Peer_Many', 'CO_F_Time', 'CO_Ideal_Other', 'G_Res_Redes',\n",
       "       'G_Motivator'],\n",
       "      dtype='object')"
      ]
     },
     "execution_count": 5,
     "metadata": {},
     "output_type": "execute_result"
    }
   ],
   "source": [
    "data.columns"
   ]
  },
  {
   "cell_type": "code",
   "execution_count": null,
   "metadata": {
    "collapsed": true
   },
   "outputs": [],
   "source": []
  }
 ],
 "metadata": {
  "kernelspec": {
   "display_name": "Python 3",
   "language": "python",
   "name": "python3"
  },
  "language_info": {
   "codemirror_mode": {
    "name": "ipython",
    "version": 3
   },
   "file_extension": ".py",
   "mimetype": "text/x-python",
   "name": "python",
   "nbconvert_exporter": "python",
   "pygments_lexer": "ipython3",
   "version": "3.6.3"
  }
 },
 "nbformat": 4,
 "nbformat_minor": 0
}
