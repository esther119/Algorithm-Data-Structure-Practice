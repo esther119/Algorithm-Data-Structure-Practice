{
 "cells": [
  {
   "cell_type": "code",
   "execution_count": 18,
   "metadata": {
    "collapsed": true
   },
   "outputs": [],
   "source": [
    "def Sort(list): #p = pivot position\n",
    "    n = len(list)\n",
    "    pivot = list[0]  #the first element\n",
    "    p = 0\n",
    "    i = 1 \n",
    "    j = 2\n",
    "    while j < n:  \n",
    "        if list[j] <= pivot:  \n",
    "            list = swap(list,i,j)\n",
    "            i += 1\n",
    "            j += 1\n",
    "        else: \n",
    "            j += 1\n",
    "    \n",
    "    #final swap with pivot \n",
    "    if list[i] > pivot: #Consider edge case(first and last case: i = 1 and i = -1)\n",
    "        list = swap(list,p,i-1) #compare list i with pivot, if list[i] is bigger swap with list[i-1]\n",
    "        p = i-1 \n",
    "    else: \n",
    "        list = swap(list,p,i)\n",
    "        p = i\n",
    "        \n",
    "                \n",
    "                    \n",
    "    return list, p #pivot's new position position  \n",
    "            "
   ]
  },
  {
   "cell_type": "code",
   "execution_count": 22,
   "metadata": {
    "collapsed": false
   },
   "outputs": [],
   "source": [
    "def swap(list,i,j ):\n",
    "    a = list[i]\n",
    "    b = list[j]\n",
    "    list[j] = a\n",
    "    list[i] = b\n",
    "    return list"
   ]
  },
  {
   "cell_type": "code",
   "execution_count": 20,
   "metadata": {
    "collapsed": false
   },
   "outputs": [],
   "source": [
    "def Quick_Sort(list):\n",
    "    if len(list) <= 1:\n",
    "        return list \n",
    "    else: \n",
    "        Sorted, p = Sort(list)\n",
    "        pivot = Sorted[p] #the value of pivot \n",
    "        left = Quick_Sort(Sorted[:p]) #include pivot in the left list \n",
    "        right = Quick_Sort(Sorted[p+1:])\n",
    "        result = left + [pivot] + right\n",
    "\n",
    "    return result"
   ]
  },
  {
   "cell_type": "code",
   "execution_count": 21,
   "metadata": {
    "collapsed": false
   },
   "outputs": [
    {
     "name": "stdout",
     "output_type": "stream",
     "text": [
      "[0, 0, 1, 2, 3, 4, 5]\n",
      "[1, 2, 3, 4, 5]\n",
      "[1, 2, 3, 4, 5]\n",
      "[0, 0, 1, 2]\n",
      "[2, 3, 4, 5, 6]\n",
      "[1, 2, 5, 5, 5]\n",
      "[1, 2, 3, 7]\n"
     ]
    }
   ],
   "source": [
    "lista = [2,3,1,0,4,5,0]\n",
    "listb = [1,2,3,4,5]\n",
    "listc = [5,4,3,2,1]\n",
    "listd = [0,1,0,2]\n",
    "liste = [5,4,3,2,6]\n",
    "listf = [2,1,5,5,5]\n",
    "listg = [3,7,1,2]\n",
    "\n",
    "print(Quick_Sort(lista))\n",
    "print(Quick_Sort(listb))\n",
    "print(Quick_Sort(listc))\n",
    "print(Quick_Sort(listd))\n",
    "print(Quick_Sort(liste))\n",
    "print(Quick_Sort(listf))\n",
    "print(Quick_Sort(listg))"
   ]
  },
  {
   "cell_type": "code",
   "execution_count": 16,
   "metadata": {
    "collapsed": false
   },
   "outputs": [
    {
     "name": "stdout",
     "output_type": "stream",
     "text": [
      "[0, 0, 1, 2, 3, 4, 5]\n",
      "[1, 2, 3, 4, 5]\n",
      "[1, 2, 3, 4, 5]\n",
      "[0, 0, 1, 2]\n",
      "[2, 3, 4, 5, 6]\n",
      "[1, 2, 5, 5, 5]\n",
      "[1, 2, 3, 7]\n"
     ]
    }
   ],
   "source": [
    "list1 = [2,3,1,0,4,5,0]\n",
    "list2 = [1,2,3,4,5]\n",
    "list3 = [5,4,3,2,1]\n",
    "list4 = [0,1,0,2]\n",
    "list5 = [5,4,3,2,6]\n",
    "list6 = [2,1,5,5,5]\n",
    "list7 = [3,7,1,2]\n",
    "\n",
    "print(sorted(list1))\n",
    "print(sorted(list2))\n",
    "print(sorted(list3))\n",
    "print(sorted(list4))\n",
    "print(sorted(list5))\n",
    "print(sorted(list6))\n",
    "print(sorted(list7))"
   ]
  },
  {
   "cell_type": "code",
   "execution_count": null,
   "metadata": {
    "collapsed": true
   },
   "outputs": [],
   "source": []
  }
 ],
 "metadata": {
  "kernelspec": {
   "display_name": "Python 3",
   "language": "python",
   "name": "python3"
  },
  "language_info": {
   "codemirror_mode": {
    "name": "ipython",
    "version": 3
   },
   "file_extension": ".py",
   "mimetype": "text/x-python",
   "name": "python",
   "nbconvert_exporter": "python",
   "pygments_lexer": "ipython3",
   "version": "3.6.3"
  }
 },
 "nbformat": 4,
 "nbformat_minor": 0
}
