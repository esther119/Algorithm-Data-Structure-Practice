{
 "cells": [
  {
   "cell_type": "code",
   "execution_count": 25,
   "metadata": {
    "collapsed": false
   },
   "outputs": [],
   "source": [
    "x = 56785678\n",
    "y = 12341234"
   ]
  },
  {
   "cell_type": "code",
   "execution_count": 26,
   "metadata": {
    "collapsed": false
   },
   "outputs": [
    {
     "name": "stdout",
     "output_type": "stream",
     "text": [
      "672 2652\n",
      "672 2652\n",
      "7006652 7006652\n"
     ]
    },
    {
     "data": {
      "text/plain": [
       "700805340046652"
      ]
     },
     "execution_count": 26,
     "metadata": {},
     "output_type": "execute_result"
    }
   ],
   "source": [
    "def Karatsuba(x,y): \n",
    "        \n",
    "    n = len(str(x))//2 #divide the total digit into half \n",
    "\n",
    "    if n == 1:\n",
    "        result = x * y\n",
    "#         print(result)\n",
    "    else: \n",
    "    \n",
    "        a = int(str(x)[:n]) #take the n digit \n",
    "        b = int(str(x)[-n:]) #take the last n digit \n",
    "        c = int(str(y)[:n])\n",
    "        d = int(str(y)[-n:])\n",
    "        ac = Karatsuba(a,c) #recursion\n",
    "        bd = Karatsuba(b,d)\n",
    "        print(ac, bd)\n",
    "        p = (a+b)*(c+d)\n",
    "        Gauss = p - ac - bd\n",
    "    \n",
    "        result = ac *(10**(2*n)) + bd + Gauss *(10**n)\n",
    "    \n",
    "    return result\n",
    "\n",
    "Karatsuba(x,y)"
   ]
  },
  {
   "cell_type": "code",
   "execution_count": 17,
   "metadata": {
    "collapsed": false
   },
   "outputs": [
    {
     "name": "stdout",
     "output_type": "stream",
     "text": [
      "672\n"
     ]
    }
   ],
   "source": [
    "print(x*y)"
   ]
  },
  {
   "cell_type": "code",
   "execution_count": null,
   "metadata": {
    "collapsed": true
   },
   "outputs": [],
   "source": []
  }
 ],
 "metadata": {
  "kernelspec": {
   "display_name": "Python 3",
   "language": "python",
   "name": "python3"
  },
  "language_info": {
   "codemirror_mode": {
    "name": "ipython",
    "version": 3
   },
   "file_extension": ".py",
   "mimetype": "text/x-python",
   "name": "python",
   "nbconvert_exporter": "python",
   "pygments_lexer": "ipython3",
   "version": "3.6.3"
  }
 },
 "nbformat": 4,
 "nbformat_minor": 0
}
