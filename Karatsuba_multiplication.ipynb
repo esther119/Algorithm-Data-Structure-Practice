{
 "cells": [
  {
   "cell_type": "code",
   "execution_count": 1,
   "metadata": {
    "collapsed": false
   },
   "outputs": [],
   "source": [
    "x = 3141592653589793238462643383279502884197169399375105820974944592\n",
    "y = 2718281828459045235360287471352662497757247093699959574966967627"
   ]
  },
  {
   "cell_type": "code",
   "execution_count": 2,
   "metadata": {
    "collapsed": false
   },
   "outputs": [
    {
     "name": "stdout",
     "output_type": "stream",
     "text": [
      "837 738\n",
      "1652 468\n",
      "8537238 16699468\n",
      "1484 2610\n",
      "8730 4185\n",
      "15243510 88577685\n",
      "853973398759468 1525114330527685\n",
      "529 4452\n",
      "3720 1792\n",
      "5609552 37759392\n",
      "2442 5893\n",
      "945 2470\n",
      "25274393 9855170\n",
      "561246337199392 2527767408885170\n",
      "8539734222673565677848730527685 5612463629786730108279808885170\n",
      "179712 152675\n",
      "171171 877032\n",
      "180058280675 172051964032\n",
      "100695 156541\n",
      "343824 371184\n",
      "100974232541 344546141184\n",
      "18006681280732117721964032 10098413065396769056141184\n",
      "853973422267356706546355086954637031247909995660108279808885170 18006681281356784706345332373447405999676396769056141184\n"
     ]
    },
    {
     "data": {
      "text/plain": [
       "8539734222673567065463550869546592520618542455330110810727399648557443805243628754263139252431032373447405999676396769056141184"
      ]
     },
     "execution_count": 2,
     "metadata": {},
     "output_type": "execute_result"
    }
   ],
   "source": [
    "def Karatsuba(x,y): \n",
    "        \n",
    "    n = len(str(x))//2 #divide the total digit into half \n",
    "\n",
    "    if n == 1:\n",
    "        result = x * y\n",
    "#         print(result)\n",
    "    else: \n",
    "    \n",
    "        a = int(str(x)[:n]) #take the n digit \n",
    "        b = int(str(x)[-n:]) #take the last n digit \n",
    "        c = int(str(y)[:n])\n",
    "        d = int(str(y)[-n:])\n",
    "        ac = Karatsuba(a,c) #recursion\n",
    "        bd = Karatsuba(b,d)\n",
    "        print(ac, bd)\n",
    "        p = (a+b)*(c+d)\n",
    "        Gauss = p - ac - bd\n",
    "    \n",
    "        result = ac *(10**(2*n)) + bd + Gauss *(10**n)\n",
    "    \n",
    "    return result\n",
    "\n",
    "Karatsuba(x,y)"
   ]
  },
  {
   "cell_type": "code",
   "execution_count": 3,
   "metadata": {
    "collapsed": false
   },
   "outputs": [
    {
     "name": "stdout",
     "output_type": "stream",
     "text": [
      "8539734222673567065463550869546574495034888535765114961879601127067743044893204848617875072216249073013374895871952806582723184\n"
     ]
    }
   ],
   "source": [
    "print(x*y)"
   ]
  },
  {
   "cell_type": "code",
   "execution_count": null,
   "metadata": {
    "collapsed": true
   },
   "outputs": [],
   "source": []
  }
 ],
 "metadata": {
  "kernelspec": {
   "display_name": "Python 3",
   "language": "python",
   "name": "python3"
  },
  "language_info": {
   "codemirror_mode": {
    "name": "ipython",
    "version": 3
   },
   "file_extension": ".py",
   "mimetype": "text/x-python",
   "name": "python",
   "nbconvert_exporter": "python",
   "pygments_lexer": "ipython3",
   "version": "3.6.3"
  }
 },
 "nbformat": 4,
 "nbformat_minor": 0
}
