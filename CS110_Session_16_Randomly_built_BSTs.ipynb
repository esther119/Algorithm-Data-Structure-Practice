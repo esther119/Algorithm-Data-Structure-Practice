{
  "nbformat": 4,
  "nbformat_minor": 0,
  "metadata": {
    "celltoolbar": "Create Assignment",
    "kernelspec": {
      "display_name": "Python 3",
      "language": "python",
      "name": "python3"
    },
    "language_info": {
      "codemirror_mode": {
        "name": "ipython",
        "version": 3
      },
      "file_extension": ".py",
      "mimetype": "text/x-python",
      "name": "python",
      "nbconvert_exporter": "python",
      "pygments_lexer": "ipython3",
      "version": "3.6.5"
    },
    "colab": {
      "name": "CS110-Session 16-Randomly built BSTs",
      "provenance": [],
      "collapsed_sections": [],
      "include_colab_link": true
    }
  },
  "cells": [
    {
      "cell_type": "markdown",
      "metadata": {
        "id": "view-in-github",
        "colab_type": "text"
      },
      "source": [
        "<a href=\"https://colab.research.google.com/github/esther119/Algorithm-Data-Structure-Practice/blob/master/CS110_Session_16_Randomly_built_BSTs.ipynb\" target=\"_parent\"><img src=\"https://colab.research.google.com/assets/colab-badge.svg\" alt=\"Open In Colab\"/></a>"
      ]
    },
    {
      "cell_type": "markdown",
      "metadata": {
        "nbgrader": {
          "grade": false,
          "grade_id": "cell-bd90321d310ba2d4",
          "locked": true,
          "schema_version": 1,
          "solution": false
        },
        "id": "5ubGHQHYMFnB"
      },
      "source": [
        "# CS110 Pre-class Work - Randomly built BSTs [Session 18]\n",
        "\n",
        "## Part A. Average number of comparisons when searching"
      ]
    },
    {
      "cell_type": "markdown",
      "metadata": {
        "nbgrader": {
          "grade": false,
          "grade_id": "cell-9e8b16db9d917705",
          "locked": true,
          "schema_version": 1,
          "solution": false
        },
        "id": "i9CzaVeuMFnD"
      },
      "source": [
        "## Question 0. \n",
        "\n",
        "Paste in the working code from last session's PCW for the class Node, which contains the methods for insertion, searching, and deletion. \n",
        "\n"
      ]
    },
    {
      "cell_type": "code",
      "metadata": {
        "nbgrader": {
          "grade": true,
          "grade_id": "cell-1eadb1312ac0519d",
          "locked": false,
          "points": 0,
          "schema_version": 1,
          "solution": true
        },
        "id": "YxAxkqsSMFnD"
      },
      "source": [
        "class Node:\n",
        "    \"\"\" \n",
        "    A Node class for the Binary Search Tree class\n",
        "\n",
        "    Attributes\n",
        "    ----------\n",
        "    l_child: Node/ None\n",
        "        The left child of the node.\n",
        "        If exists, the left child's data is smaller than the node's.\n",
        "    r_child: Node/ None\n",
        "        The right child of the node.\n",
        "        If exists, the right child's data is larger than or equal to the node's.\n",
        "    parent: Node/ None\n",
        "        The parent of the node\n",
        "    data: int\n",
        "        The data of the node.\n",
        "    \"\"\"  \n",
        "    def __init__(self, data):\n",
        "        \"\"\"\n",
        "        Parameters\n",
        "        ----------\n",
        "        data: int\n",
        "            The data of the node.\n",
        "        \"\"\" \n",
        "        self.l_child = None\n",
        "        self.r_child = None\n",
        "        self.parent = None\n",
        "        self.data = data\n",
        "\n",
        "    def __repr__(self):\n",
        "        return f\"Node {self.data}\"\n",
        "\n",
        "    def find_min(self):\n",
        "        \"\"\"\n",
        "        Find the minimum node from the node's subtree\n",
        "\n",
        "        Parameters\n",
        "        ----------\n",
        "        None\n",
        "\n",
        "        Returns\n",
        "        ----------\n",
        "        Node\n",
        "            The minimum node from the node's subtree\n",
        "\n",
        "        \"\"\"\n",
        "        current = self\n",
        "        while current.l_child is not None:\n",
        "            current = current.l_child\n",
        "        return current\n",
        "    \n",
        "\n",
        "    def next_largest(self):\n",
        "        \"\"\"\n",
        "        Find the node with the next largest value compared to the current node\n",
        "\n",
        "        Parameters\n",
        "        ----------\n",
        "        None\n",
        "\n",
        "        Returns\n",
        "        ----------\n",
        "        Node\n",
        "            The node with the next largest value\n",
        "\n",
        "        \"\"\"\n",
        "        if self.r_child is not None:\n",
        "            return self.r_child.find_min()\n",
        "        current = self\n",
        "        while current.parent is not None and current is current.parent.r_child:\n",
        "            current = current.parent\n",
        "        return current.parent\n",
        "\n",
        "class BinarySearchTree:\n",
        "\n",
        "    def __init__(self):\n",
        "        self.root = None\n",
        "\n",
        "    def to_string(self): \n",
        "        \"\"\"\n",
        "        Print the Binary Search Tree\n",
        "\n",
        "        Parameters\n",
        "        ----------\n",
        "        None\n",
        "\n",
        "        Returns\n",
        "        ----------\n",
        "        None\n",
        "        \"\"\"\n",
        "        if self.root is None: \n",
        "            return 'Nil'\n",
        "        self._print_tree(self.root, 0)\n",
        "\n",
        "    def _print_tree(self, root, depth):\n",
        "        \"\"\"\n",
        "        Recursively print the tree from the root\n",
        "\n",
        "        Parameters\n",
        "        ----------\n",
        "        root: Node/ None\n",
        "            the root of the subtree, if it exists\n",
        "        depth: int\n",
        "            the depth of the tree\n",
        "\n",
        "        Returns\n",
        "        ----------\n",
        "        None\n",
        "        \"\"\"\n",
        "        if not root: \n",
        "            return\n",
        "        self._print_tree(root.l_child, depth + 1) \n",
        "        print('\\t'* depth + '➡️ Node'+ str(root.data) +'')\n",
        "        self._print_tree(root.r_child, depth + 1) \n",
        "        \n",
        "        \n",
        "\n",
        "    def insert(self, node):\n",
        "        \"\"\"\n",
        "        Insert a node/ value of the node into the tree\n",
        "\n",
        "        Parameters\n",
        "        ----------\n",
        "        node: Node/ int\n",
        "            the node or the value of the node\n",
        "\n",
        "        Returns\n",
        "        ----------\n",
        "        None\n",
        "        \"\"\"\n",
        "\n",
        "        if type(node) is int: \n",
        "            node = Node(node)\n",
        "\n",
        "        if self.root is None:\n",
        "            self.root = node\n",
        "            return\n",
        "        else:\n",
        "            self._insert_node(node, self.root)\n",
        "\n",
        "    def _insert_node(self, node, root):\n",
        "        \"\"\"\n",
        "        Insert a node into an existing subtree\n",
        "\n",
        "        Parameters\n",
        "        ----------\n",
        "        root: Node\n",
        "            the root of the subtree\n",
        "        node: Node\n",
        "            the node to be inserted\n",
        "\n",
        "        Returns\n",
        "        ----------\n",
        "        None\n",
        "        \"\"\"\n",
        "        if root.data > node.data:\n",
        "            if root.l_child is None:\n",
        "                root.l_child = node\n",
        "                node.parent = root\n",
        "            else:\n",
        "                self._insert_node(node, root.l_child)\n",
        "        else:\n",
        "            if root.r_child is None:\n",
        "                root.r_child = node\n",
        "                node.parent = root\n",
        "            else:\n",
        "                self._insert_node(node, root.r_child)\n",
        "\n",
        "    def delete(self, value):\n",
        "        \"\"\"\n",
        "        Delete the first node with the value found from the Binary Search Tree\n",
        "        if it exists\n",
        "\n",
        "        Parameters\n",
        "        ----------\n",
        "        value: int\n",
        "            the value of the node to be removed\n",
        "\n",
        "        Returns\n",
        "        ----------\n",
        "        Node/ None\n",
        "            the node if it is found and deleted, otherwise None\n",
        "        \"\"\"\n",
        "        node = self.search(value)\n",
        "        if node is None:\n",
        "            return None\n",
        "        if node is self.root:\n",
        "            pseudoroot = Node(None)\n",
        "            pseudoroot.l_child = self.root\n",
        "            self.root.parent = pseudoroot\n",
        "            deleted = self._delete_node(self.root)\n",
        "            self.root = pseudoroot.l_child\n",
        "            if self.root is not None:\n",
        "                self.root.parent = None\n",
        "                return deleted\n",
        "        else:\n",
        "            return self._delete_node(node)\n",
        "\n",
        "    def _delete_node(self, node):\n",
        "        \"\"\"\n",
        "        Delete a specific node from the Binary Search Tree\n",
        "\n",
        "        Parameters\n",
        "        ----------\n",
        "        node: Node\n",
        "            the node to be removed\n",
        "\n",
        "        Returns\n",
        "        ----------\n",
        "        Node\n",
        "            the node that has been removed\n",
        "        \"\"\"\n",
        "        if node.l_child is None or node.r_child is None:\n",
        "            if node.parent.l_child is node:\n",
        "                node.parent.l_child = node.l_child or node.r_child\n",
        "                if node.parent.l_child is not None:\n",
        "                    node.parent.l_child.parent = node.parent\n",
        "            else:\n",
        "                node.parent.r_child = node.r_child or node.l_child\n",
        "                if node.parent.r_child is not None:\n",
        "                    node.parent.r_child.parent = node.parent\n",
        "            return node\n",
        "        else:\n",
        "            replacement = node.next_largest()\n",
        "            replacement.data, node.data = node.data, replacement.data\n",
        "            return self._delete_node(replacement)\n",
        "\n",
        "    def search(self, value):\n",
        "        \"\"\"\n",
        "        Search for a value in the Binary Search Tree\n",
        "\n",
        "        Parameters\n",
        "        ----------\n",
        "        value: int\n",
        "            the value that needs to be searched\n",
        "\n",
        "        Returns\n",
        "        ----------\n",
        "        Node/ None\n",
        "            the first node found, or None\n",
        "        \"\"\"\n",
        "        if self.root is None:\n",
        "            return None\n",
        "        else:\n",
        "            return self._search_value(value, self.root)\n",
        "\n",
        "    def _search_value(self, value, root):\n",
        "        \"\"\"\n",
        "        Search for a value from the root of the subtree\n",
        "\n",
        "        Parameters\n",
        "        ----------\n",
        "        value: int\n",
        "            the value that needs to be searched\n",
        "        root: Node/ None\n",
        "            the root of the subtree to search the value\n",
        "\n",
        "        Returns\n",
        "        ----------\n",
        "        Node/ None\n",
        "            the first node found, or None\n",
        "        \"\"\"\n",
        "        if not root:\n",
        "            return None\n",
        "        if value == root.data:\n",
        "            return root\n",
        "        elif value < root.data:\n",
        "            return self._search_value(value, root.l_child)\n",
        "        else:\n",
        "            return self._search_value(value, root.r_child)\n",
        "    \n",
        "    def inorder(self):\n",
        "        \"\"\"\n",
        "        Return an array of the values in the tree in sorted order\n",
        "\n",
        "        Parameters\n",
        "        ----------\n",
        "        None\n",
        "\n",
        "        Returns\n",
        "        ----------\n",
        "        list\n",
        "            the array of values in sorted order\n",
        "        \"\"\"\n",
        "        if not self.root: return []\n",
        "        lst = []\n",
        "        root = self.root\n",
        "        def sub_inorder(root):\n",
        "            if root is not None:\n",
        "                sub_inorder(root.l_child)\n",
        "                lst.append(root.data)\n",
        "                sub_inorder(root.r_child)\n",
        "        sub_inorder(root)\n",
        "        return lst"
      ],
      "execution_count": null,
      "outputs": []
    },
    {
      "cell_type": "markdown",
      "metadata": {
        "nbgrader": {
          "grade": false,
          "grade_id": "cell-d3f754a4d3637207",
          "locked": true,
          "schema_version": 1,
          "solution": false
        },
        "id": "jgl8l20IMFnE"
      },
      "source": [
        "\n",
        "## Question 1. \n",
        "\n",
        "Complete the following function that computes the depth of a given node in a BST identified by its root. Use the test below to make sure your code works properly (Optional: Why does the test work?)"
      ]
    },
    {
      "cell_type": "code",
      "metadata": {
        "nbgrader": {
          "grade": false,
          "grade_id": "cell-cd10e9a432673bd9",
          "locked": false,
          "schema_version": 1,
          "solution": true
        },
        "id": "FK0rJE4lMFnE"
      },
      "source": [
        "def depth(bst, node):\n",
        "    \"\"\"\n",
        "    Finds the depth of the node in a BST. Depth of root is 0.\n",
        "\n",
        "    Parameters\n",
        "    ----------\n",
        "    node: Node\n",
        "        An existing node in the BST that we need to compute the depth of\n",
        "\n",
        "    Returns\n",
        "    ----------\n",
        "    int\n",
        "        the depth from root of the tree to node\n",
        "    \"\"\"\n",
        "    if node == bst.root:\n",
        "        return 0\n",
        "    return depth(bst, node.parent) + 1\n"
      ],
      "execution_count": null,
      "outputs": []
    },
    {
      "cell_type": "code",
      "metadata": {
        "id": "Ak7nlRQ4MFnF"
      },
      "source": [
        "# Testing code \n",
        "import math\n",
        "bst = BinarySearchTree()\n",
        "nodes = [Node(15), Node(6), Node(18), Node(3), Node(7), \n",
        "         Node(17), Node(20), Node(2), Node(4)]\n",
        "for node in nodes:\n",
        "    bst.insert(node)\n",
        "#         insert(bst, node)\n",
        "for i in range(len(nodes)):\n",
        "    assert(depth(bst, nodes[i]) == int(math.log(i+1,2)))"
      ],
      "execution_count": null,
      "outputs": []
    },
    {
      "cell_type": "markdown",
      "metadata": {
        "nbgrader": {
          "grade": false,
          "grade_id": "cell-bd8ce3e36c859c2e",
          "locked": true,
          "schema_version": 1,
          "solution": false
        },
        "id": "JrCPeUP-MFnH"
      },
      "source": [
        "## Question 2.\n",
        "\n",
        "Complete the following function, making use of `depth`, to calculate the average number of comparisons required to search for a randomly chosen element of a standard BST. For example, the following tree:\n",
        "\n",
        "                            12\n",
        "                              \\\n",
        "                               14\n",
        "\n",
        "will have an average number of comparisons of 1.5. This is because 50% of the time we will be searching for 12 (1 comparison), and 50% of the time we will be searching for 14 (2 comparisons).\n",
        "\n",
        "You can test your function with this test case by constructing the tree using the code from the last session's pre-class work. \n",
        "\n",
        "\n",
        "(*Hint*: the number of comparisons required to search for node a is `depth(root, a) + 1`.) "
      ]
    },
    {
      "cell_type": "code",
      "metadata": {
        "nbgrader": {
          "grade": false,
          "grade_id": "cell-34e9cb302f1dad00",
          "locked": false,
          "schema_version": 1,
          "solution": true
        },
        "id": "WXGvRnnZMFnH"
      },
      "source": [
        "def average_comparisons(bst):\n",
        "    \"\"\"\n",
        "    Finds the average number of comparisons required \n",
        "    to search for a randomly chosen element of a standard BST. \n",
        "\n",
        "    Parameters\n",
        "    ----------\n",
        "    bst: BinarySearchTree\n",
        "        The binary search tree to find the comparisons\n",
        "\n",
        "    Returns\n",
        "    ----------\n",
        "    float\n",
        "        the average number of comparisons\n",
        "    \"\"\"\n",
        "    if not bst.root: \n",
        "        return 0\n",
        "    total = 0\n",
        "    count = 0\n",
        "    def total_comparisons(bst, node):\n",
        "        nonlocal total\n",
        "        nonlocal count\n",
        "        if node is None: \n",
        "            return\n",
        "        count += 1 \n",
        "        total += depth(bst, node) + 1\n",
        "        total_comparisons(bst, node.l_child)\n",
        "        total_comparisons(bst, node.r_child)\n",
        "    total_comparisons(bst, bst.root)\n",
        "    return total/count"
      ],
      "execution_count": null,
      "outputs": []
    },
    {
      "cell_type": "code",
      "metadata": {
        "nbgrader": {
          "grade": true,
          "grade_id": "cell-dedc229bbb15d811",
          "locked": true,
          "points": 1,
          "schema_version": 1,
          "solution": false
        },
        "id": "XF3k4P3NMFnI"
      },
      "source": [
        "# Please ignore this cell. This cell is for us to implement the tests \n",
        "# to see if your code works properly. \n",
        "### BEGIN HIDDEN TESTS\n",
        "\n",
        "bst = BinarySearchTree()\n",
        "nodes = [Node(15), Node(6), Node(18), Node(3), Node(7), \n",
        "         Node(17), Node(20), Node(2), Node(4)]\n",
        "for node in nodes:\n",
        "    bst.insert(node)\n",
        "\n",
        "assert(average_comparisons(bst) == float(25/9))\n",
        "\n",
        "\n",
        "### END HIDDEN TESTS"
      ],
      "execution_count": null,
      "outputs": []
    },
    {
      "cell_type": "markdown",
      "metadata": {
        "id": "ShbIbwsJaBw-"
      },
      "source": [
        "## Intro poll case"
      ]
    },
    {
      "cell_type": "code",
      "metadata": {
        "colab": {
          "base_uri": "https://localhost:8080/"
        },
        "id": "b5lDinZbaA6s",
        "outputId": "fb55d5ce-2d3e-4105-f3c6-49e423831936"
      },
      "source": [
        "bst = BinarySearchTree()\n",
        "nodes = [Node(1), Node(2), Node(3), Node(12), Node(14)]\n",
        "for node in nodes:\n",
        "    bst.insert(node)\n",
        "average_comparisons(bst)"
      ],
      "execution_count": null,
      "outputs": [
        {
          "output_type": "execute_result",
          "data": {
            "text/plain": [
              "3.0"
            ]
          },
          "metadata": {},
          "execution_count": 60
        }
      ]
    },
    {
      "cell_type": "markdown",
      "metadata": {
        "nbgrader": {
          "grade": false,
          "grade_id": "cell-4b7d0c4e86568346",
          "locked": true,
          "schema_version": 1,
          "solution": false
        },
        "id": "-ziGXcq7MFnJ"
      },
      "source": [
        "## Part B. Depth of randomly-built trees\n",
        "The average number of comparisons for a randomly chosen element within the tree is related to the “average depth” of the tree. Here the average depth of a tree is defined to be the average of the depths of all the nodes in the tree. \n",
        "## Question 1. \n",
        "\n",
        "Complete the following function to find the maximum depth of a node in a given BST. Also, note that the maximum depth is equal to the height of the tree.\n"
      ]
    },
    {
      "cell_type": "code",
      "metadata": {
        "nbgrader": {
          "grade": false,
          "grade_id": "cell-64aba253c2b1bada",
          "locked": false,
          "schema_version": 1,
          "solution": true
        },
        "id": "D1sYeYqjMFnJ"
      },
      "source": [
        "def max_depth(bst):\n",
        "    \"\"\"Finds the maximum depth of the node.\n",
        "    \n",
        "    Input:\n",
        "    - node: a Node, the root of the node\n",
        "    \n",
        "    Output:\n",
        "    - h: int, the maximum depth in a node\"\"\"\n",
        "    def max_depth_node(node):\n",
        "        if not node:\n",
        "            return -1\n",
        "        \n",
        "        return 1 + max(max_depth_node(node.r_child), max_depth_node(node.l_child))\n",
        "    if bst.root is None:\n",
        "        return 0\n",
        "    return max_depth_node(bst.root)"
      ],
      "execution_count": null,
      "outputs": []
    },
    {
      "cell_type": "code",
      "metadata": {
        "nbgrader": {
          "grade": true,
          "grade_id": "cell-82deabcb0ea2e594",
          "locked": true,
          "points": 1,
          "schema_version": 1,
          "solution": false
        },
        "id": "PhZIDBUmMFnJ"
      },
      "source": [
        "### BEGIN HIDDEN TESTS\n",
        "\n",
        "bst = BinarySearchTree()\n",
        "nodes = [Node(15), Node(6), Node(18), Node(3), Node(7), \n",
        "         Node(17), Node(20), Node(2), Node(4)]\n",
        "for node in nodes:\n",
        "    bst.insert(node)\n",
        "assert(max_depth(bst) == 3)\n",
        "### END HIDDEN TESTS"
      ],
      "execution_count": null,
      "outputs": []
    },
    {
      "cell_type": "code",
      "source": [
        "### more hidden tests\n",
        "\n",
        "def max_depth_brute_force(bst, nodes_list):\n",
        "    max_depth_so_far = -float('inf')\n",
        "    for ele in nodes_list:\n",
        "        current_depth = depth(bst, ele)\n",
        "        if current_depth > max_depth_so_far:\n",
        "            max_depth_so_far = current_depth\n",
        "    return max_depth_so_far\n",
        "\n",
        "# sampling with replacement\n",
        "import random\n",
        "rand_lst = [ [random.randint(0,100) for _ in range(100)] for ele in range(10)]\n",
        "\n",
        "for ele in rand_lst:\n",
        "    bst = BinarySearchTree() \n",
        "    nodes_list = [Node(num) for num in ele]\n",
        "    for x in nodes_list:\n",
        "    \tbst.insert(x)\n",
        "    try:\n",
        "        assert(max_depth_brute_force(bst, nodes_list) == max_depth(bst))\n",
        "        print(\"Success, passed hidden test 🎉\")\n",
        "    except:\n",
        "        print(f\"Expected bst with max depth of {max_depth_brute_force(bst)} but got {max_depth(bst)} instead. It looks like there is a bug 🐞 in your code\")\n",
        "        break"
      ],
      "metadata": {
        "colab": {
          "base_uri": "https://localhost:8080/"
        },
        "id": "M0MkljTky76s",
        "outputId": "e50135cb-a053-4490-d4ad-7d72307c5ad5"
      },
      "execution_count": null,
      "outputs": [
        {
          "output_type": "stream",
          "name": "stdout",
          "text": [
            "Success, passed hidden test 🎉\n",
            "Success, passed hidden test 🎉\n",
            "Success, passed hidden test 🎉\n",
            "Success, passed hidden test 🎉\n",
            "Success, passed hidden test 🎉\n",
            "Success, passed hidden test 🎉\n",
            "Success, passed hidden test 🎉\n",
            "Success, passed hidden test 🎉\n",
            "Success, passed hidden test 🎉\n",
            "Success, passed hidden test 🎉\n"
          ]
        }
      ]
    },
    {
      "cell_type": "markdown",
      "metadata": {
        "nbgrader": {
          "grade": false,
          "grade_id": "cell-fd78b979c52b9527",
          "locked": true,
          "schema_version": 1,
          "solution": false
        },
        "id": "JfS9yHg3MFnK"
      },
      "source": [
        "## Question 2. \n",
        "\n",
        "Using the `avg_cmp` function, complete the following function to return the average depth of the tree. The average depth is related to the average number of comparisons as `average depth = (average comparisons - 1)`, since the root has depth zero."
      ]
    },
    {
      "cell_type": "code",
      "metadata": {
        "nbgrader": {
          "grade": false,
          "grade_id": "cell-347916904e4a8379",
          "locked": false,
          "schema_version": 1,
          "solution": true
        },
        "id": "8ry4alabMFnK"
      },
      "source": [
        "def avg_depth(bst):\n",
        "    \"\"\"Computes the average depth of a BST\n",
        "    \n",
        "    Input:\n",
        "    - bst: a Node, root of the BST\n",
        "    \n",
        "    Output:\n",
        "    - avg_d: float, average depth of the BST\"\"\"\n",
        "    ### BEGIN SOLUTION\n",
        "    return average_comparisons(bst) - 1\n",
        "    ### END SOLUTION"
      ],
      "execution_count": null,
      "outputs": []
    },
    {
      "cell_type": "code",
      "metadata": {
        "nbgrader": {
          "grade": true,
          "grade_id": "cell-1bd7535fe6950d5f",
          "locked": true,
          "points": 1,
          "schema_version": 1,
          "solution": false
        },
        "id": "xDxsZoSwMFnK"
      },
      "source": [
        "# Please ignore this cell. This cell is for us to implement the tests \n",
        "# to see if your code works properly. \n",
        "### BEGIN HIDDEN TESTS\n",
        "    \n",
        "bst = BinarySearchTree()\n",
        "nodes = [Node(15), Node(6), Node(18), Node(3), Node(7), \n",
        "         Node(17), Node(20), Node(2), Node(4)]\n",
        "for node in nodes:\n",
        "    bst.insert(node)\n",
        "def is_equal(a,b):\n",
        "    return abs(a-b) < 1e-5\n",
        "\n",
        "assert(avg_depth(bst) == 16/9)\n",
        "### END HIDDEN TESTS"
      ],
      "execution_count": null,
      "outputs": []
    },
    {
      "cell_type": "markdown",
      "metadata": {
        "nbgrader": {
          "grade": false,
          "grade_id": "cell-6365329a3c57c1b1",
          "locked": true,
          "schema_version": 1,
          "solution": false
        },
        "id": "WKm8wzuKMFnL"
      },
      "source": [
        "## Question 3.\n",
        "Now, insert randomly shuffled lists into BSTs, and measure the average depth and the maximum depth. How do these statistics scale as you increase $N$, the number of nodes? Make sure to give a compelling argument that motivates this scaling behaviour (you do not need to provide a technical derivation)."
      ]
    },
    {
      "cell_type": "markdown",
      "metadata": {
        "nbgrader": {
          "grade": true,
          "grade_id": "cell-bad918a333cabe43",
          "locked": false,
          "points": 0,
          "schema_version": 1,
          "solution": true
        },
        "id": "DZlcxAJhMFnL"
      },
      "source": [
        "SOLUTION:\n",
        "    \n",
        "Because of the randomization, we expect the tree to be balanced, so we also expect the maximum depth (i.e., the height) and the average depth to be $\\mathrm{O}(\\log N)$.\n",
        "\n"
      ]
    },
    {
      "cell_type": "markdown",
      "metadata": {
        "nbgrader": {
          "grade": false,
          "grade_id": "cell-3255b4081c295fa6",
          "locked": true,
          "schema_version": 1,
          "solution": false
        },
        "id": "PNEvN8vfMFnL"
      },
      "source": [
        "\n",
        "## Question 4.\n",
        "\n",
        "Produce a plot showing the scaling behavior that you saw of both the average depth and the maximum depth as a function of the length of the shuffled list. For a meaningful figure, be sure to scale out to a list of size 10,000 and average the timings 50 times. (You don’t have to sample each value from 1 to 10,000!). Is this plot in agreement with the theoretical result you obtained in the previous question? Explain. \n"
      ]
    },
    {
      "cell_type": "code",
      "metadata": {
        "nbgrader": {
          "grade": true,
          "grade_id": "cell-3034eb71070a6734",
          "locked": false,
          "points": 0,
          "schema_version": 1,
          "solution": true
        },
        "id": "g3A5bry2MFnL",
        "colab": {
          "base_uri": "https://localhost:8080/",
          "height": 281
        },
        "outputId": "9f1081e6-af34-46de-f34a-14d20f1d9091"
      },
      "source": [
        "import numpy as np\n",
        "import random\n",
        "import matplotlib.pyplot as plt\n",
        "N = []\n",
        "max_depths = []\n",
        "avg_depths = []\n",
        "\n",
        "for n in np.logspace(0,4,100):\n",
        "    N.append(n)\n",
        "    depth1 = []\n",
        "    depth2 = []\n",
        "    for _ in range(50):\n",
        "        bst = BinarySearchTree()\n",
        "        nodes = [Node(i) for i in range(int(n))]\n",
        "        random.shuffle(nodes)\n",
        "        for node in nodes:\n",
        "            bst.insert(node)\n",
        "        depth1.append(max_depth(bst))\n",
        "        depth2.append(avg_depth(bst))\n",
        "    max_depths.append(np.mean(depth1))\n",
        "    avg_depths.append(np.mean(depth2))\n",
        "\n",
        "plt.plot(N, max_depths, color = 'red',label = 'max depth', linewidth = 1.0)\n",
        "plt.plot(N, avg_depths, color = 'blue',label = 'average depth', linewidth = 1.0)\n",
        "plt.xlabel('$N$', fontsize=10)\n",
        "plt.ylabel('depths', fontsize=10)\n",
        "plt.legend()\n",
        "plt.show()"
      ],
      "execution_count": null,
      "outputs": [
        {
          "output_type": "display_data",
          "data": {
            "text/plain": [
              "<Figure size 432x288 with 1 Axes>"
            ],
            "image/png": "[encoded data removed]"
          },
          "metadata": {
            "needs_background": "light"
          }
        }
      ]
    },
    {
      "cell_type": "code",
      "metadata": {
        "colab": {
          "base_uri": "https://localhost:8080/",
          "height": 301
        },
        "id": "geq383o9PLG6",
        "outputId": "e3acaf19-0bb4-4e38-f4a2-6694f7ce6206"
      },
      "source": [
        "plt.semilogx(N, max_depths, color = 'red',label = 'max depth', linewidth = 1.0)\n",
        "plt.semilogx(N, avg_depths, color = 'blue',label = 'average depth', linewidth = 1.0)\n",
        "plt.xlabel('$N$', fontsize=10)\n",
        "plt.ylabel('depths', fontsize=10)\n",
        "plt.title('Semi-log plot')\n",
        "plt.legend()\n",
        "plt.show()"
      ],
      "execution_count": null,
      "outputs": [
        {
          "output_type": "display_data",
          "data": {
            "text/plain": [
              "<Figure size 432x288 with 1 Axes>"
            ],
            "image/png": "[encoded data removed]"
          },
          "metadata": {
            "needs_background": "light"
          }
        }
      ]
    },
    {
      "cell_type": "markdown",
      "metadata": {
        "id": "oEBwYj-m8ZIC"
      },
      "source": [
        "Extra plotting (to produce a linear fitting)"
      ]
    },
    {
      "cell_type": "code",
      "metadata": {
        "colab": {
          "base_uri": "https://localhost:8080/"
        },
        "id": "BsJR8kVXPLpf",
        "outputId": "c234744b-6681-43ab-e7df-d72a3dbc496d"
      },
      "source": [
        "from sklearn.linear_model import LinearRegression\n",
        "from sklearn.metrics import mean_squared_error, r2_score\n",
        "\n",
        "linear_fit_avg_depth = LinearRegression()\n",
        "x_values = np.log(N).reshape(-1, 1)\n",
        "y_values = np.array(avg_depths).reshape(-1, 1)\n",
        "linear_fit_avg_depth.fit(x_values, y_values)\n",
        "# predicting\n",
        "avg_depths_predicted = linear_fit_avg_depth.predict(x_values)\n",
        "\n",
        "# model evaluation\n",
        "r2_avg_depth = round(r2_score(y_values, avg_depths_predicted), 3)\n",
        "print(f'r^2 score: {r2_avg_depth}.')"
      ],
      "execution_count": null,
      "outputs": [
        {
          "output_type": "stream",
          "name": "stdout",
          "text": [
            "r^2 score: 0.993.\n"
          ]
        }
      ]
    },
    {
      "cell_type": "code",
      "metadata": {
        "colab": {
          "base_uri": "https://localhost:8080/"
        },
        "id": "C791QkmmYV1z",
        "outputId": "ffa3d1ec-98a6-48b5-c4d3-5dadfee46774"
      },
      "source": [
        "linear_fit_max_depth = LinearRegression()\n",
        "y_values = np.array(max_depths).reshape(-1, 1)\n",
        "linear_fit_max_depth.fit(x_values, y_values)\n",
        "# predicting\n",
        "max_depths_predicted = linear_fit_max_depth.predict(x_values)\n",
        "\n",
        "# model evaluation\n",
        "r2_max_depth = round(r2_score(y_values, max_depths_predicted), 3)\n",
        "print(f'r^2 score: {r2_max_depth}')"
      ],
      "execution_count": null,
      "outputs": [
        {
          "output_type": "stream",
          "name": "stdout",
          "text": [
            "r^2 score: 0.991\n"
          ]
        }
      ]
    },
    {
      "cell_type": "code",
      "metadata": {
        "colab": {
          "base_uri": "https://localhost:8080/",
          "height": 376
        },
        "id": "lRuzN5tiW-Q8",
        "outputId": "ed238ed3-1313-4c3e-d26b-3e1a65f1410c"
      },
      "source": [
        "import seaborn as sns   \n",
        "sns.set( style = \"white\" )  \n",
        "plt.style.use('seaborn')\n",
        "plt.plot(np.log(N), avg_depths, c='blue', label = 'average depth', alpha = 0.4, linewidth=4)\n",
        "plt.plot(np.log(N), max_depths, c = 'red', alpha = 0.4, label = 'max depth', linewidth=4)\n",
        "plt.plot(x_values, avg_depths_predicted, c='darkblue', label = 'linear fit, with r2='+str(r2_avg_depth))\n",
        "plt.plot(x_values, max_depths_predicted, c='red', label = 'linear fit, with r2='+str(r2_max_depth))\n",
        "\n",
        "plt.xlabel('log(N)')\n",
        "plt.ylabel('Average and Max depth')\n",
        "plt.title(\"Randomly build BSTs\")\n",
        "plt.legend()\n",
        "plt.show()"
      ],
      "execution_count": null,
      "outputs": [
        {
          "output_type": "display_data",
          "data": {
            "text/plain": [
              "<Figure size 576x396 with 1 Axes>"
            ],
            "image/png": "[encoded data removed]"
          },
          "metadata": {}
        }
      ]
    },
    {
      "cell_type": "markdown",
      "metadata": {
        "id": "kPwKV1B-CF5i"
      },
      "source": [
        "Worst-case scenario (no randomization)"
      ]
    },
    {
      "cell_type": "code",
      "metadata": {
        "id": "S6lLUMT4Xamv",
        "colab": {
          "base_uri": "https://localhost:8080/",
          "height": 378
        },
        "outputId": "8d397171-191f-4472-9393-a38cb09a1db6"
      },
      "source": [
        "import numpy as np\n",
        "import random\n",
        "import matplotlib.pyplot as plt\n",
        "N_worst_case = []\n",
        "max_depths_worst_case = []\n",
        "avg_depths_worst_case = []\n",
        "\n",
        "# less points and less nodes\n",
        "for n in np.logspace(0,2,50):\n",
        "    N_worst_case.append(n)\n",
        "    depth1_worst_case = []\n",
        "    depth2_worst_case = []\n",
        "    for _ in range(50):\n",
        "        bst_worst_case = BinarySearchTree()\n",
        "        nodes = [Node(i) for i in range(int(n))]\n",
        "        for node in nodes:\n",
        "            bst_worst_case.insert(node)\n",
        "        depth1_worst_case.append(max_depth(bst_worst_case))\n",
        "        depth2_worst_case.append(avg_depth(bst_worst_case))\n",
        "    max_depths_worst_case.append(np.mean(depth1_worst_case))\n",
        "    avg_depths_worst_case.append(np.mean(depth2_worst_case))\n",
        "\n",
        "plt.title('Worst-case scenario')\n",
        "plt.plot(N_worst_case, max_depths_worst_case, color = 'red',label = 'max depth', linewidth = 1.0)\n",
        "plt.plot(N_worst_case, avg_depths_worst_case, color = 'blue',label = 'average depth', linewidth = 1.0)\n",
        "plt.xlabel('$N$', fontsize=10)\n",
        "plt.ylabel('depths', fontsize=10)\n",
        "plt.legend()\n",
        "plt.show()"
      ],
      "execution_count": null,
      "outputs": [
        {
          "output_type": "display_data",
          "data": {
            "text/plain": [
              "<Figure size 576x396 with 1 Axes>"
            ],
            "image/png": "[encoded data removed]"
          },
          "metadata": {}
        }
      ]
    },
    {
      "cell_type": "code",
      "metadata": {
        "id": "niYbxc_mCmDu"
      },
      "source": [
        ""
      ],
      "execution_count": null,
      "outputs": []
    }
  ]
}