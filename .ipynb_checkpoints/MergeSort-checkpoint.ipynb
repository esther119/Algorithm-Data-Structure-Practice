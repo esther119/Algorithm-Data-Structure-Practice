{
 "cells": [
  {
   "cell_type": "code",
   "execution_count": 148,
   "metadata": {
    "collapsed": false
   },
   "outputs": [],
   "source": [
    "def Merge(A, B): #A,B is two sorted list, Merge function will merge them \n",
    "    i = 0\n",
    "    j = 0\n",
    "    n = len(A)+len(B)\n",
    "    C = [0]* n #create a empty list \n",
    "    for k in range(n): \n",
    "        if A[i] <= B[j]:\n",
    "            C[k] = A[i]\n",
    "            i += 1\n",
    "            if i >= len(A): #finish all elements in list A\n",
    "                C[-n+i+j:] = B[-n+i+j:]\n",
    "                return C\n",
    "                \n",
    "        else: \n",
    "            C[k] = B[j]\n",
    "            j += 1\n",
    "            if j >= len(B): #finish all elements in list A\n",
    "                C[-n+i+j:] = A[-n+i+j:]\n",
    "                return C\n",
    "            "
   ]
  },
  {
   "cell_type": "code",
   "execution_count": 115,
   "metadata": {
    "collapsed": false
   },
   "outputs": [
    {
     "data": {
      "text/plain": [
       "[2, 4, 5, 6, 7, 8, 8, 10, 34]"
      ]
     },
     "execution_count": 115,
     "metadata": {},
     "output_type": "execute_result"
    }
   ],
   "source": [
    "#Test case \n",
    "A = [2, 4, 5, 6] \n",
    "B = [7,8,8, 10, 34]\n",
    "Merge(A,B)"
   ]
  },
  {
   "cell_type": "code",
   "execution_count": 149,
   "metadata": {
    "collapsed": false
   },
   "outputs": [],
   "source": [
    "def MergeSort(list):\n",
    "    n= len(list)\n",
    "    if n <= 1: #if only one element in the list \n",
    "        result = list \n",
    "\n",
    "    else:  #if more than one element in the list \n",
    "        mid = n//2 #find the middle point \n",
    "        left = MergeSort(list[:mid]) \n",
    "        right = MergeSort(list[mid:])\n",
    "        result = Merge(left,right)  #Merge two lists  \n",
    "    return result\n",
    "\n",
    "#Test case \n",
    "list1 = [6,2,4,5,34,7,8,10,11,12,3]\n"
   ]
  },
  {
   "cell_type": "code",
   "execution_count": 147,
   "metadata": {
    "collapsed": false
   },
   "outputs": [
    {
     "data": {
      "text/plain": [
       "[2, 3, 4, 5, 6, 7, 8, 10, 11, 12, 34]"
      ]
     },
     "execution_count": 147,
     "metadata": {},
     "output_type": "execute_result"
    }
   ],
   "source": [
    "MergeSort(list1)"
   ]
  },
  {
   "cell_type": "code",
   "execution_count": null,
   "metadata": {
    "collapsed": true
   },
   "outputs": [],
   "source": []
  },
  {
   "cell_type": "code",
   "execution_count": null,
   "metadata": {
    "collapsed": false
   },
   "outputs": [],
   "source": []
  },
  {
   "cell_type": "code",
   "execution_count": null,
   "metadata": {
    "collapsed": true
   },
   "outputs": [],
   "source": []
  }
 ],
 "metadata": {
  "kernelspec": {
   "display_name": "Python 3",
   "language": "python",
   "name": "python3"
  },
  "language_info": {
   "codemirror_mode": {
    "name": "ipython",
    "version": 3
   },
   "file_extension": ".py",
   "mimetype": "text/x-python",
   "name": "python",
   "nbconvert_exporter": "python",
   "pygments_lexer": "ipython3",
   "version": "3.6.3"
  }
 },
 "nbformat": 4,
 "nbformat_minor": 0
}
