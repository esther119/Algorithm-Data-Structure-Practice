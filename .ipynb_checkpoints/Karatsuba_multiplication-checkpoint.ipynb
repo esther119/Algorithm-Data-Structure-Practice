{
 "cells": [
  {
   "cell_type": "code",
   "execution_count": 35,
   "metadata": {
    "collapsed": false
   },
   "outputs": [],
   "source": [
    "x = 567810\n",
    "y = 123423"
   ]
  },
  {
   "cell_type": "code",
   "execution_count": 41,
   "metadata": {
    "collapsed": false
   },
   "outputs": [
    {
     "data": {
      "text/plain": [
       "70080813630"
      ]
     },
     "execution_count": 41,
     "metadata": {},
     "output_type": "execute_result"
    }
   ],
   "source": [
    "def Karatsuba(x,y): \n",
    "        \n",
    "    n = len(str(x))//2 #divide the total digit into half \n",
    "\n",
    "    if n == 1:\n",
    "        result = x * y\n",
    "    else: \n",
    "    \n",
    "        a = int(str(x)[:n]) #take the n digit \n",
    "        b = int(str(x)[-n:]) #take the last n digit \n",
    "        c = int(str(y)[:n])\n",
    "        d = int(str(y)[-n:])\n",
    "        ac = Karatsuba(a,c) #recursion\n",
    "        bd = Karatsuba(b,d)\n",
    "        \n",
    "        p = (a+b)*(c+d)\n",
    "        Gauss = p - ac - bd\n",
    "    \n",
    "        result = ac *(10**(2*n)) + bd + Gauss *(10**n)\n",
    "    \n",
    "    return result\n",
    "    \n",
    "Karatsuba(x,y)\n"
   ]
  },
  {
   "cell_type": "code",
   "execution_count": 37,
   "metadata": {
    "collapsed": false
   },
   "outputs": [
    {
     "name": "stdout",
     "output_type": "stream",
     "text": [
      "70080813630\n"
     ]
    }
   ],
   "source": [
    "print(x*y)"
   ]
  },
  {
   "cell_type": "code",
   "execution_count": null,
   "metadata": {
    "collapsed": true
   },
   "outputs": [],
   "source": []
  }
 ],
 "metadata": {
  "kernelspec": {
   "display_name": "Python 3",
   "language": "python",
   "name": "python3"
  },
  "language_info": {
   "codemirror_mode": {
    "name": "ipython",
    "version": 3
   },
   "file_extension": ".py",
   "mimetype": "text/x-python",
   "name": "python",
   "nbconvert_exporter": "python",
   "pygments_lexer": "ipython3",
   "version": "3.6.3"
  }
 },
 "nbformat": 4,
 "nbformat_minor": 0
}
